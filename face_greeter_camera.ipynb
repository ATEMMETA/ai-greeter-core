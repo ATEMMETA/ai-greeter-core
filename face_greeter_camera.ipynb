{
  "nbformat": 4,
  "nbformat_minor": 0,
  "metadata": {
    "colab": {
      "provenance": []
    },
    "kernelspec": {
      "name": "python3",
      "display_name": "Python 3"
    },
    "language_info": {
      "name": "python"
    }
  },
  "cells": [
    {
      "cell_type": "markdown",
      "source": [
        "# Face Greeter: Real-Time Video Analytics System\n",
        "\n",
        "This Jupyter Notebook powers the backend for FaceGreeter, a real-time video analytics system for businesses. This simplified version tests Flask and ngrok stability to debug kernel crashes and ngrok tunnel issues. The full system uses `face_recognition` for face detection, OpenCV for video processing, and a Flask API to manage camera connections, video streaming, and customer insights via the xAI Grok API. It integrates with the Vercel frontend at https://facegreeter.vercel.app.\n",
        "\n",
        "## Prerequisites\n",
        "- Google Colab environment with internet access.\n",
        "- `NGROK_AUTHTOKEN` stored in Colab Secrets.\n",
        "- GitHub repository `ai-greeter-core` at https://github.com/ATEMMETA/ai-greeter-core.\n",
        "\n",
        "## Steps\n",
        "1. Clone the ai-greeter-core repository.\n",
        "2. Install dependencies from requirements.txt.\n",
        "3. Set up environment variables.\n",
        "4. Run simplified Flask API with ngrok.\n",
        "5. Test stability and monitor resources.\n",
        "\n",
        "**Security Note**: Securely handle `NGROK_AUTHTOKEN` in Colab Secrets."
      ],
      "metadata": {
        "id": "project_description"
      }
    },
    {
      "cell_type": "code",
      "source": [
        "# Clone repository and install dependencies\n",
        "import os\n",
        "os.environ['PYDEVD_DISABLE_FILE_VALIDATION'] = '1'  # Disable frozen modules warning\n",
        "\n",
        "# Clone ai-greeter-core repository\n",
        "!git clone https://github.com/ATEMMETA/ai-greeter-core.git /content/ai-greeter-core\n",
        "\n",
        "# Purge pip cache\n",
        "!pip cache purge\n",
        "\n",
        "# Install Python dependencies from requirements.txt\n",
        "!pip install -r /content/ai-greeter-core/requirements.txt\n",
        "\n",
        "# Verify installed packages\n",
        "!pip list | grep -E 'flask|pyngrok|python-dotenv'\n",
        "print(\"Dependencies installed. Please go to 'Runtime' > 'Restart runtime' and then re-run all cells.\")\n",
        "print(\"Monitor RAM/CPU usage in the top-right corner of Colab during the next steps.\")"
      ],
      "metadata": {
        "id": "clone_and_install"
      },
      "execution_count": null,
      "outputs": []
    },
    {
      "cell_type": "code",
      "source": [
        "# Set up environment variables\n",
        "from google.colab import userdata\n",
        "import os\n",
        "\n",
        "# Check for required secrets\n",
        "ngrok_token = userdata.get(\"NGROK_AUTHTOKEN\")\n",
        "if not ngrok_token:\n",
        "    raise ValueError(\"NGROK_AUTHTOKEN not found in Colab Secrets.\")\n",
        "\n",
        "# Write .env file\n",
        "with open('/content/ai-greeter-core/.env', 'w') as f:\n",
        "    f.write(f'NGROK_AUTHTOKEN={ngrok_token}\\n')\n",
        "    f.write('VERCEL_URL=https://facegreeter.vercel.app\\n')\n",
        "    f.write('VERCEL_API_BASE_URL=https://facegreeter.vercel.app\\n')"
      ],
      "metadata": {
        "id": "setup_environment"
      },
      "execution_count": null,
      "outputs": []
    },
    {
      "cell_type": "code",
      "source": [
        "# Run Flask with ngrok\n",
        "from pyngrok import ngrok\n",
        "import os\n",
        "import subprocess\n",
        "import time\n",
        "from dotenv import load_dotenv\n",
        "\n",
        "# Kill existing ngrok and Flask processes\n",
        "os.system('pkill ngrok')\n",
        "os.system('pkill python')\n",
        "os.system('fuser -k 8000/tcp')  # Kill any process on port 8000\n",
        "\n",
        "# Load environment variables\n",
        "load_dotenv('/content/ai-greeter-core/.env')\n",
        "ngrok_token = os.getenv(\"NGROK_AUTHTOKEN\")\n",
        "if not ngrok_token:\n",
        "    raise ValueError(\"NGROK_AUTHTOKEN not found in .env file.\")\n",
        "\n",
        "# Set ngrok auth token\n",
        "ngrok.set_auth_token(ngrok_token)\n",
        "\n",
        "# Start Flask server with error logging\n",
        "print(\"Starting Flask server...\")\n",
        "flask_process = subprocess.Popen(\n",
        "    ['python', '/content/ai-greeter-core/combined_app.py'],\n",
        "    stdout=subprocess.PIPE,\n",
        "    stderr=subprocess.PIPE,\n",
        "    text=True\n",
        ")\n",
        "\n",
        "# Wait for Flask to start\n",
        "time.sleep(5)\n",
        "\n",
        "# Check if Flask is running\n",
        "if flask_process.poll() is not None:\n",
        "    stdout, stderr = flask_process.communicate()\n",
        "    print(f\"Flask failed to start. Error: {stderr}\")\n",
        "    raise RuntimeError(\"Flask server crashed. Check error above.\")\n",
        "\n",
        "# Start ngrok tunnel\n",
        "try:\n",
        "    public_url = ngrok.connect(8000).public_url\n",
        "    print(f'Flask API available at: {public_url}')\n",
        "except Exception as e:\n",
        "    print(f\"Ngrok failed to start: {str(e)}\")\n",
        "    flask_process.terminate()\n",
        "    raise\n",
        "\n",
        "print(f'Flask server started with PID: {flask_process.pid}')\n",
        "\n",
        "# Debug: Check running processes and port\n",
        "os.system('ps aux | grep python')\n",
        "os.system('netstat -tuln | grep 8000')\n",
        "\n",
        "# Keep the notebook running\n",
        "try:\n",
        "    input('Press Enter to stop the Flask server...')\n",
        "finally:\n",
        "    flask_process.terminate()\n",
        "    os.system('pkill ngrok')\n",
        "    os.system('pkill python')\n",
        "    os.system('fuser -k 8000/tcp')"
      ],
      "metadata": {
        "id": "run_flask_ngrok"
      },
      "execution_count": null,
      "outputs": []
    }
  ]
}
